{
 "cells": [
  {
   "cell_type": "markdown",
   "id": "cd976573",
   "metadata": {},
   "source": [
    "# The Poisson problem using Nitsche method\n",
    "\n",
    "In this section, we consider a domain $\\Omega$ which a union of multiple subdomain, *i.e.*\n",
    "\n",
    "$$\n",
    "\\Omega := \\bigcup_{i=1}^n \\Omega_i, \\quad \\Omega_i \\bigcap \\Omega_j = \\emptyset, ~ i \\neq j  \n",
    "$$\n",
    "\n",
    "We shall denote by $\\mathcal{I}$ the set of all internal interfaces of $\\Omega$.\n",
    "\n",
    "We shall also need the following operators\n",
    "\n",
    "- The jump of the function $u$, defined as $[\\![ u ]\\!] := u|\\_{\\Omega_{i_1}} -  u|\\_{\\Omega_{i_2}}$ for two adjacent subdomains $\\Omega_{i_1}$ and $\\Omega_{i_2}$\n",
    "- The average of the function $u$, defined as $\\{u\\} := \\frac{1}{2} \\left( u|\\_{\\Omega_{i_1}} +  u|\\_{\\Omega_{i_2}} \\right)$ for two adjacent subdomains $\\Omega_{i_1}$ and $\\Omega_{i_2}$\n",
    "\n",
    "We consider the Poisson equation\n",
    "\n",
    "$$\n",
    "\\begin{align}\n",
    "  - \\nabla^2 u = f \\quad \\text{in $\\Omega$}, \\quad \\quad \n",
    "  u = 0            \\quad \\text{on $\\partial \\Omega$}, \\quad \\quad \n",
    "   [\\![ u ]\\!] = 0 \\quad \\text{on $\\mathcal{I}$}, \\quad \\quad\n",
    "   [\\![\\partial_n u ]\\!] = 0 \\quad \\text{on $\\mathcal{I}$}.\n",
    "\\end{align}\n",
    "$$\n",
    "\n",
    "## Variational Formulation\n",
    "\n",
    "The variational formulation reads\n",
    "\n",
    "$$\n",
    "\\begin{align}\n",
    "  \\text{find $u \\in V$ such that} \\quad a(u,v) = l(v) \\quad \\forall v \\in V,\n",
    "\\end{align}\n",
    "$$\n",
    "\n",
    "where \n",
    "\n",
    "- $V \\subset H^1(\\Omega)$, \n",
    "- $a(u,v) := \\int_{\\Omega} \\nabla u \\cdot \\nabla v ~ d\\Omega + \\int_{\\mathcal{I}} \\left( \\kappa [\\![ u ]\\!] ~ [\\![ v ]\\!] - [\\![ u ]\\!] ~ \\partial_n v - \\partial_n u ~ [\\![ v ]\\!] \\right) ~ d\\mathcal{I} $, \n",
    "- $l(v) := \\int_{\\Omega} f v ~ d\\Omega$.\n"
   ]
  },
  {
   "cell_type": "markdown",
   "id": "5b1e68da",
   "metadata": {},
   "source": [
    "## Formal Model"
   ]
  },
  {
   "cell_type": "code",
   "execution_count": 6,
   "id": "2ae922ff",
   "metadata": {},
   "outputs": [],
   "source": [
    "from sympde.expr     import BilinearForm, LinearForm, integral, Norm\n",
    "from sympde.expr     import find, EssentialBC\n",
    "from sympde.topology import ScalarFunctionSpace, Square, Domain, element_of\n",
    "from sympde.calculus import grad, dot\n",
    "from sympde.calculus import jump, avg, minus, plus, Dn\n",
    "from sympde.core     import Constant\n",
    "from sympde.topology import NormalVector\n",
    "\n",
    "from sympy import pi, sin\n",
    "\n",
    "from psydac.api.discretization import discretize\n",
    "\n",
    "# ... create a domain as the union of two subdomains\n",
    "A = Square('A',bounds1=(0, 0.5), bounds2=(0, 1))\n",
    "B = Square('B',bounds1=(0.5, 1.), bounds2=(0, 1))\n",
    "\n",
    "connectivity = [((0,0,1),(1,0,-1))]\n",
    "subdomains = [A,B]\n",
    "domain = Domain.join(subdomains, connectivity, 'domain')\n",
    "# ...\n",
    "\n",
    "# one sided approximation of the normal ﬂux on the interface\n",
    "nn   = NormalVector('nn')\n",
    "#Dn_I = lambda u: 0.5*(dot(grad(minus(u)), nn) + dot(grad(plus(u)), nn))\n",
    "Dn_I = lambda u: 0.5*(plus(Dn(u)) + minus(Dn(u)))\n",
    "\n",
    "# internal interafaces of the domain\n",
    "I = domain.interfaces\n",
    "\n",
    "kappa = Constant('kappa', is_real=True)\n",
    "\n",
    "V = ScalarFunctionSpace('V', domain)\n",
    "\n",
    "x,y = domain.coordinates\n",
    "\n",
    "u,v = [element_of(V, name=i) for i in ['u', 'v']]\n",
    "\n",
    "# bilinear form\n",
    "a = BilinearForm((u,v),\n",
    "                   integral(domain, dot(grad(u),grad(v)))            \n",
    "                 + integral(I, kappa * jump(u)*jump(v) - Dn_I(u)*jump(v) - jump(u)*Dn_I(v))\n",
    "                )\n",
    "\n",
    "# linear form\n",
    "f = 2*pi**2*sin(pi*x)*sin(pi*y)\n",
    "l = LinearForm(v, integral(domain, f*v))\n",
    "\n",
    "# Dirichlet boundary conditions\n",
    "bc = [EssentialBC(u, 0, domain.boundary)]\n",
    "\n",
    "# Variational problem\n",
    "equation   = find(u, forall=v, lhs=a(u, v), rhs=l(v), bc=bc)"
   ]
  },
  {
   "cell_type": "markdown",
   "id": "48bafde7",
   "metadata": {},
   "source": [
    "## Discretization"
   ]
  },
  {
   "cell_type": "code",
   "execution_count": 7,
   "id": "dba29398",
   "metadata": {},
   "outputs": [],
   "source": [
    "degree = [2,2]\n",
    "ncells = [8,8]"
   ]
  },
  {
   "cell_type": "code",
   "execution_count": 3,
   "id": "4c341883",
   "metadata": {
    "scrolled": true
   },
   "outputs": [
    {
     "ename": "TypeError",
     "evalue": "Expecting a ScalarFunction, PlusInterfaceOperator or MinusInterfaceOperator",
     "output_type": "error",
     "traceback": [
      "\u001b[0;31m---------------------------------------------------------------------------\u001b[0m",
      "\u001b[0;31mTypeError\u001b[0m                                 Traceback (most recent call last)",
      "Cell \u001b[0;32mIn[3], line 8\u001b[0m\n\u001b[1;32m      5\u001b[0m Vh \u001b[38;5;241m=\u001b[39m discretize(V, domain_h, degree\u001b[38;5;241m=\u001b[39mdegree)\n\u001b[1;32m      7\u001b[0m \u001b[38;5;66;03m# Discretize equation\u001b[39;00m\n\u001b[0;32m----> 8\u001b[0m equation_h \u001b[38;5;241m=\u001b[39m \u001b[43mdiscretize\u001b[49m\u001b[43m(\u001b[49m\u001b[43mequation\u001b[49m\u001b[43m,\u001b[49m\u001b[43m \u001b[49m\u001b[43mdomain_h\u001b[49m\u001b[43m,\u001b[49m\u001b[43m \u001b[49m\u001b[43m[\u001b[49m\u001b[43mVh\u001b[49m\u001b[43m,\u001b[49m\u001b[43m \u001b[49m\u001b[43mVh\u001b[49m\u001b[43m]\u001b[49m\u001b[43m)\u001b[49m\n",
      "File \u001b[0;32m~/PYCCEL/IGA-Python/.iga-python/lib/python3.10/site-packages/psydac/api/discretization.py:516\u001b[0m, in \u001b[0;36mdiscretize\u001b[0;34m(a, *args, **kwargs)\u001b[0m\n\u001b[1;32m    513\u001b[0m     \u001b[38;5;28;01mreturn\u001b[39;00m DiscreteFunctional(a, kernel_expr, \u001b[38;5;241m*\u001b[39margs, \u001b[38;5;241m*\u001b[39m\u001b[38;5;241m*\u001b[39mkwargs)\n\u001b[1;32m    515\u001b[0m \u001b[38;5;28;01melif\u001b[39;00m \u001b[38;5;28misinstance\u001b[39m(a, sym_Equation):\n\u001b[0;32m--> 516\u001b[0m     \u001b[38;5;28;01mreturn\u001b[39;00m \u001b[43mDiscreteEquation\u001b[49m\u001b[43m(\u001b[49m\u001b[43ma\u001b[49m\u001b[43m,\u001b[49m\u001b[43m \u001b[49m\u001b[38;5;241;43m*\u001b[39;49m\u001b[43margs\u001b[49m\u001b[43m,\u001b[49m\u001b[43m \u001b[49m\u001b[38;5;241;43m*\u001b[39;49m\u001b[38;5;241;43m*\u001b[39;49m\u001b[43mkwargs\u001b[49m\u001b[43m)\u001b[49m\n\u001b[1;32m    518\u001b[0m \u001b[38;5;28;01melif\u001b[39;00m \u001b[38;5;28misinstance\u001b[39m(a, BasicFunctionSpace):\n\u001b[1;32m    519\u001b[0m     \u001b[38;5;28;01mreturn\u001b[39;00m discretize_space(a, \u001b[38;5;241m*\u001b[39margs, \u001b[38;5;241m*\u001b[39m\u001b[38;5;241m*\u001b[39mkwargs)\n",
      "File \u001b[0;32m~/PYCCEL/IGA-Python/.iga-python/lib/python3.10/site-packages/psydac/api/equation.py:106\u001b[0m, in \u001b[0;36mDiscreteEquation.__init__\u001b[0;34m(self, expr, *args, **kwargs)\u001b[0m\n\u001b[1;32m    103\u001b[0m test_space  \u001b[38;5;241m=\u001b[39m trial_test[\u001b[38;5;241m1\u001b[39m]\n\u001b[1;32m    104\u001b[0m \u001b[38;5;66;03m# ...\u001b[39;00m\n\u001b[0;32m--> 106\u001b[0m \u001b[38;5;28mself\u001b[39m\u001b[38;5;241m.\u001b[39m_lhs \u001b[38;5;241m=\u001b[39m \u001b[43mdiscretize\u001b[49m\u001b[43m(\u001b[49m\u001b[43mexpr\u001b[49m\u001b[38;5;241;43m.\u001b[39;49m\u001b[43mlhs\u001b[49m\u001b[43m,\u001b[49m\u001b[43m \u001b[49m\u001b[43mdomain\u001b[49m\u001b[43m,\u001b[49m\u001b[43m \u001b[49m\u001b[43mtrial_test\u001b[49m\u001b[43m,\u001b[49m\u001b[43m \u001b[49m\u001b[38;5;241;43m*\u001b[39;49m\u001b[38;5;241;43m*\u001b[39;49m\u001b[43mkwargs\u001b[49m\u001b[43m)\u001b[49m\n\u001b[1;32m    107\u001b[0m \u001b[38;5;66;03m# ...\u001b[39;00m\n\u001b[1;32m    109\u001b[0m \u001b[38;5;28mself\u001b[39m\u001b[38;5;241m.\u001b[39m_rhs \u001b[38;5;241m=\u001b[39m discretize(expr\u001b[38;5;241m.\u001b[39mrhs, domain, test_space, \u001b[38;5;241m*\u001b[39m\u001b[38;5;241m*\u001b[39mkwargs)\n",
      "File \u001b[0;32m~/PYCCEL/IGA-Python/.iga-python/lib/python3.10/site-packages/psydac/api/discretization.py:497\u001b[0m, in \u001b[0;36mdiscretize\u001b[0;34m(a, *args, **kwargs)\u001b[0m\n\u001b[1;32m    494\u001b[0m         a       \u001b[38;5;241m=\u001b[39m LogicalExpr (a, domain)\n\u001b[1;32m    495\u001b[0m         domain  \u001b[38;5;241m=\u001b[39m domain\u001b[38;5;241m.\u001b[39mlogical_domain\n\u001b[0;32m--> 497\u001b[0m     kernel_expr \u001b[38;5;241m=\u001b[39m \u001b[43mTerminalExpr\u001b[49m\u001b[43m(\u001b[49m\u001b[43ma\u001b[49m\u001b[43m,\u001b[49m\u001b[43m \u001b[49m\u001b[43mdomain\u001b[49m\u001b[43m)\u001b[49m\n\u001b[1;32m    499\u001b[0m \u001b[38;5;28;01mif\u001b[39;00m \u001b[38;5;28mlen\u001b[39m(kernel_expr) \u001b[38;5;241m>\u001b[39m \u001b[38;5;241m1\u001b[39m:\n\u001b[1;32m    500\u001b[0m     \u001b[38;5;28;01mreturn\u001b[39;00m DiscreteSumForm(a, kernel_expr, \u001b[38;5;241m*\u001b[39margs, \u001b[38;5;241m*\u001b[39m\u001b[38;5;241m*\u001b[39mkwargs)\n",
      "File \u001b[0;32m~/PYCCEL/IGA-Python/.iga-python/lib/python3.10/site-packages/sympde/expr/evaluation.py:502\u001b[0m, in \u001b[0;36mTerminalExpr.__new__\u001b[0;34m(cls, expr, domain, **options)\u001b[0m\n\u001b[1;32m    499\u001b[0m \u001b[38;5;28;01mdef\u001b[39;00m \u001b[38;5;21m__new__\u001b[39m(\u001b[38;5;28mcls\u001b[39m, expr, domain, \u001b[38;5;241m*\u001b[39m\u001b[38;5;241m*\u001b[39moptions):\n\u001b[1;32m    501\u001b[0m     \u001b[38;5;28;01mif\u001b[39;00m options\u001b[38;5;241m.\u001b[39mpop(\u001b[38;5;124m'\u001b[39m\u001b[38;5;124mevaluate\u001b[39m\u001b[38;5;124m'\u001b[39m, \u001b[38;5;28;01mTrue\u001b[39;00m):\n\u001b[0;32m--> 502\u001b[0m         r \u001b[38;5;241m=\u001b[39m \u001b[38;5;28;43mcls\u001b[39;49m\u001b[38;5;241;43m.\u001b[39;49m\u001b[43meval\u001b[49m\u001b[43m(\u001b[49m\u001b[43mexpr\u001b[49m\u001b[43m,\u001b[49m\u001b[43m \u001b[49m\u001b[43mdomain\u001b[49m\u001b[43m)\u001b[49m\n\u001b[1;32m    503\u001b[0m     \u001b[38;5;28;01melse\u001b[39;00m:\n\u001b[1;32m    504\u001b[0m         r \u001b[38;5;241m=\u001b[39m \u001b[38;5;28;01mNone\u001b[39;00m\n",
      "File \u001b[0;32m~/PYCCEL/IGA-Python/.iga-python/lib/python3.10/site-packages/sympy/core/cache.py:72\u001b[0m, in \u001b[0;36m__cacheit.<locals>.func_wrapper.<locals>.wrapper\u001b[0;34m(*args, **kwargs)\u001b[0m\n\u001b[1;32m     69\u001b[0m \u001b[38;5;129m@wraps\u001b[39m(func)\n\u001b[1;32m     70\u001b[0m \u001b[38;5;28;01mdef\u001b[39;00m \u001b[38;5;21mwrapper\u001b[39m(\u001b[38;5;241m*\u001b[39margs, \u001b[38;5;241m*\u001b[39m\u001b[38;5;241m*\u001b[39mkwargs):\n\u001b[1;32m     71\u001b[0m     \u001b[38;5;28;01mtry\u001b[39;00m:\n\u001b[0;32m---> 72\u001b[0m         retval \u001b[38;5;241m=\u001b[39m \u001b[43mcfunc\u001b[49m\u001b[43m(\u001b[49m\u001b[38;5;241;43m*\u001b[39;49m\u001b[43margs\u001b[49m\u001b[43m,\u001b[49m\u001b[43m \u001b[49m\u001b[38;5;241;43m*\u001b[39;49m\u001b[38;5;241;43m*\u001b[39;49m\u001b[43mkwargs\u001b[49m\u001b[43m)\u001b[49m\n\u001b[1;32m     73\u001b[0m     \u001b[38;5;28;01mexcept\u001b[39;00m \u001b[38;5;167;01mTypeError\u001b[39;00m \u001b[38;5;28;01mas\u001b[39;00m e:\n\u001b[1;32m     74\u001b[0m         \u001b[38;5;28;01mif\u001b[39;00m \u001b[38;5;129;01mnot\u001b[39;00m e\u001b[38;5;241m.\u001b[39margs \u001b[38;5;129;01mor\u001b[39;00m \u001b[38;5;129;01mnot\u001b[39;00m e\u001b[38;5;241m.\u001b[39margs[\u001b[38;5;241m0\u001b[39m]\u001b[38;5;241m.\u001b[39mstartswith(\u001b[38;5;124m'\u001b[39m\u001b[38;5;124munhashable type:\u001b[39m\u001b[38;5;124m'\u001b[39m):\n",
      "File \u001b[0;32m~/PYCCEL/IGA-Python/.iga-python/lib/python3.10/site-packages/sympde/expr/evaluation.py:726\u001b[0m, in \u001b[0;36mTerminalExpr.eval\u001b[0;34m(cls, expr, domain)\u001b[0m\n\u001b[1;32m    724\u001b[0m d_new \u001b[38;5;241m=\u001b[39m {}\n\u001b[1;32m    725\u001b[0m \u001b[38;5;28;01mfor\u001b[39;00m domain, a \u001b[38;5;129;01min\u001b[39;00m d_expr\u001b[38;5;241m.\u001b[39mitems():\n\u001b[0;32m--> 726\u001b[0m     newexpr \u001b[38;5;241m=\u001b[39m \u001b[38;5;28;43mcls\u001b[39;49m\u001b[38;5;241;43m.\u001b[39;49m\u001b[43meval\u001b[49m\u001b[43m(\u001b[49m\u001b[43ma\u001b[49m\u001b[43m,\u001b[49m\u001b[43m \u001b[49m\u001b[43mdomain\u001b[49m\u001b[38;5;241;43m=\u001b[39;49m\u001b[43mdomain\u001b[49m\u001b[43m)\u001b[49m\n\u001b[1;32m    727\u001b[0m     \u001b[38;5;28;01mif\u001b[39;00m newexpr \u001b[38;5;241m!=\u001b[39m \u001b[38;5;241m0\u001b[39m:\n\u001b[1;32m    728\u001b[0m         \u001b[38;5;66;03m# TODO ARA make sure thre is no problem with psydac\u001b[39;00m\n\u001b[1;32m    729\u001b[0m         \u001b[38;5;66;03m#      we should always take the interior of a domain\u001b[39;00m\n\u001b[1;32m    730\u001b[0m         \u001b[38;5;28;01mif\u001b[39;00m \u001b[38;5;129;01mnot\u001b[39;00m \u001b[38;5;28misinstance\u001b[39m(domain, (Boundary, Interface, InteriorDomain)):\n",
      "File \u001b[0;32m~/PYCCEL/IGA-Python/.iga-python/lib/python3.10/site-packages/sympy/core/cache.py:72\u001b[0m, in \u001b[0;36m__cacheit.<locals>.func_wrapper.<locals>.wrapper\u001b[0;34m(*args, **kwargs)\u001b[0m\n\u001b[1;32m     69\u001b[0m \u001b[38;5;129m@wraps\u001b[39m(func)\n\u001b[1;32m     70\u001b[0m \u001b[38;5;28;01mdef\u001b[39;00m \u001b[38;5;21mwrapper\u001b[39m(\u001b[38;5;241m*\u001b[39margs, \u001b[38;5;241m*\u001b[39m\u001b[38;5;241m*\u001b[39mkwargs):\n\u001b[1;32m     71\u001b[0m     \u001b[38;5;28;01mtry\u001b[39;00m:\n\u001b[0;32m---> 72\u001b[0m         retval \u001b[38;5;241m=\u001b[39m \u001b[43mcfunc\u001b[49m\u001b[43m(\u001b[49m\u001b[38;5;241;43m*\u001b[39;49m\u001b[43margs\u001b[49m\u001b[43m,\u001b[49m\u001b[43m \u001b[49m\u001b[38;5;241;43m*\u001b[39;49m\u001b[38;5;241;43m*\u001b[39;49m\u001b[43mkwargs\u001b[49m\u001b[43m)\u001b[49m\n\u001b[1;32m     73\u001b[0m     \u001b[38;5;28;01mexcept\u001b[39;00m \u001b[38;5;167;01mTypeError\u001b[39;00m \u001b[38;5;28;01mas\u001b[39;00m e:\n\u001b[1;32m     74\u001b[0m         \u001b[38;5;28;01mif\u001b[39;00m \u001b[38;5;129;01mnot\u001b[39;00m e\u001b[38;5;241m.\u001b[39margs \u001b[38;5;129;01mor\u001b[39;00m \u001b[38;5;129;01mnot\u001b[39;00m e\u001b[38;5;241m.\u001b[39margs[\u001b[38;5;241m0\u001b[39m]\u001b[38;5;241m.\u001b[39mstartswith(\u001b[38;5;124m'\u001b[39m\u001b[38;5;124munhashable type:\u001b[39m\u001b[38;5;124m'\u001b[39m):\n",
      "File \u001b[0;32m~/PYCCEL/IGA-Python/.iga-python/lib/python3.10/site-packages/sympde/expr/evaluation.py:782\u001b[0m, in \u001b[0;36mTerminalExpr.eval\u001b[0;34m(cls, expr, domain)\u001b[0m\n\u001b[1;32m    780\u001b[0m \u001b[38;5;28;01melif\u001b[39;00m \u001b[38;5;28misinstance\u001b[39m(expr, Integral):\n\u001b[1;32m    781\u001b[0m     domain \u001b[38;5;241m=\u001b[39m expr\u001b[38;5;241m.\u001b[39mdomain\n\u001b[0;32m--> 782\u001b[0m     expr   \u001b[38;5;241m=\u001b[39m \u001b[38;5;28;43mcls\u001b[39;49m\u001b[38;5;241;43m.\u001b[39;49m\u001b[43meval\u001b[49m\u001b[43m(\u001b[49m\u001b[43mexpr\u001b[49m\u001b[38;5;241;43m.\u001b[39;49m\u001b[43m_args\u001b[49m\u001b[43m[\u001b[49m\u001b[38;5;241;43m0\u001b[39;49m\u001b[43m]\u001b[49m\u001b[43m,\u001b[49m\u001b[43m \u001b[49m\u001b[43mdomain\u001b[49m\u001b[38;5;241;43m=\u001b[39;49m\u001b[43mdomain\u001b[49m\u001b[43m)\u001b[49m\n\u001b[1;32m    783\u001b[0m     \u001b[38;5;28;01mreturn\u001b[39;00m expr\n\u001b[1;32m    785\u001b[0m \u001b[38;5;28;01melif\u001b[39;00m \u001b[38;5;28misinstance\u001b[39m(expr, NormalVector):\n",
      "File \u001b[0;32m~/PYCCEL/IGA-Python/.iga-python/lib/python3.10/site-packages/sympy/core/cache.py:72\u001b[0m, in \u001b[0;36m__cacheit.<locals>.func_wrapper.<locals>.wrapper\u001b[0;34m(*args, **kwargs)\u001b[0m\n\u001b[1;32m     69\u001b[0m \u001b[38;5;129m@wraps\u001b[39m(func)\n\u001b[1;32m     70\u001b[0m \u001b[38;5;28;01mdef\u001b[39;00m \u001b[38;5;21mwrapper\u001b[39m(\u001b[38;5;241m*\u001b[39margs, \u001b[38;5;241m*\u001b[39m\u001b[38;5;241m*\u001b[39mkwargs):\n\u001b[1;32m     71\u001b[0m     \u001b[38;5;28;01mtry\u001b[39;00m:\n\u001b[0;32m---> 72\u001b[0m         retval \u001b[38;5;241m=\u001b[39m \u001b[43mcfunc\u001b[49m\u001b[43m(\u001b[49m\u001b[38;5;241;43m*\u001b[39;49m\u001b[43margs\u001b[49m\u001b[43m,\u001b[49m\u001b[43m \u001b[49m\u001b[38;5;241;43m*\u001b[39;49m\u001b[38;5;241;43m*\u001b[39;49m\u001b[43mkwargs\u001b[49m\u001b[43m)\u001b[49m\n\u001b[1;32m     73\u001b[0m     \u001b[38;5;28;01mexcept\u001b[39;00m \u001b[38;5;167;01mTypeError\u001b[39;00m \u001b[38;5;28;01mas\u001b[39;00m e:\n\u001b[1;32m     74\u001b[0m         \u001b[38;5;28;01mif\u001b[39;00m \u001b[38;5;129;01mnot\u001b[39;00m e\u001b[38;5;241m.\u001b[39margs \u001b[38;5;129;01mor\u001b[39;00m \u001b[38;5;129;01mnot\u001b[39;00m e\u001b[38;5;241m.\u001b[39margs[\u001b[38;5;241m0\u001b[39m]\u001b[38;5;241m.\u001b[39mstartswith(\u001b[38;5;124m'\u001b[39m\u001b[38;5;124munhashable type:\u001b[39m\u001b[38;5;124m'\u001b[39m):\n",
      "File \u001b[0;32m~/PYCCEL/IGA-Python/.iga-python/lib/python3.10/site-packages/sympde/expr/evaluation.py:533\u001b[0m, in \u001b[0;36mTerminalExpr.eval\u001b[0;34m(cls, expr, domain)\u001b[0m\n\u001b[1;32m    531\u001b[0m dim \u001b[38;5;241m=\u001b[39m domain\u001b[38;5;241m.\u001b[39mdim\n\u001b[1;32m    532\u001b[0m \u001b[38;5;28;01mif\u001b[39;00m \u001b[38;5;28misinstance\u001b[39m(expr, Add):\n\u001b[0;32m--> 533\u001b[0m     args \u001b[38;5;241m=\u001b[39m [\u001b[38;5;28mcls\u001b[39m\u001b[38;5;241m.\u001b[39meval(a, domain\u001b[38;5;241m=\u001b[39mdomain) \u001b[38;5;28;01mfor\u001b[39;00m a \u001b[38;5;129;01min\u001b[39;00m expr\u001b[38;5;241m.\u001b[39margs]\n\u001b[1;32m    534\u001b[0m     o \u001b[38;5;241m=\u001b[39m args[\u001b[38;5;241m0\u001b[39m]\n\u001b[1;32m    535\u001b[0m     \u001b[38;5;28;01mfor\u001b[39;00m arg \u001b[38;5;129;01min\u001b[39;00m args[\u001b[38;5;241m1\u001b[39m:]:\n",
      "File \u001b[0;32m~/PYCCEL/IGA-Python/.iga-python/lib/python3.10/site-packages/sympde/expr/evaluation.py:533\u001b[0m, in \u001b[0;36m<listcomp>\u001b[0;34m(.0)\u001b[0m\n\u001b[1;32m    531\u001b[0m dim \u001b[38;5;241m=\u001b[39m domain\u001b[38;5;241m.\u001b[39mdim\n\u001b[1;32m    532\u001b[0m \u001b[38;5;28;01mif\u001b[39;00m \u001b[38;5;28misinstance\u001b[39m(expr, Add):\n\u001b[0;32m--> 533\u001b[0m     args \u001b[38;5;241m=\u001b[39m [\u001b[38;5;28;43mcls\u001b[39;49m\u001b[38;5;241;43m.\u001b[39;49m\u001b[43meval\u001b[49m\u001b[43m(\u001b[49m\u001b[43ma\u001b[49m\u001b[43m,\u001b[49m\u001b[43m \u001b[49m\u001b[43mdomain\u001b[49m\u001b[38;5;241;43m=\u001b[39;49m\u001b[43mdomain\u001b[49m\u001b[43m)\u001b[49m \u001b[38;5;28;01mfor\u001b[39;00m a \u001b[38;5;129;01min\u001b[39;00m expr\u001b[38;5;241m.\u001b[39margs]\n\u001b[1;32m    534\u001b[0m     o \u001b[38;5;241m=\u001b[39m args[\u001b[38;5;241m0\u001b[39m]\n\u001b[1;32m    535\u001b[0m     \u001b[38;5;28;01mfor\u001b[39;00m arg \u001b[38;5;129;01min\u001b[39;00m args[\u001b[38;5;241m1\u001b[39m:]:\n",
      "File \u001b[0;32m~/PYCCEL/IGA-Python/.iga-python/lib/python3.10/site-packages/sympy/core/cache.py:72\u001b[0m, in \u001b[0;36m__cacheit.<locals>.func_wrapper.<locals>.wrapper\u001b[0;34m(*args, **kwargs)\u001b[0m\n\u001b[1;32m     69\u001b[0m \u001b[38;5;129m@wraps\u001b[39m(func)\n\u001b[1;32m     70\u001b[0m \u001b[38;5;28;01mdef\u001b[39;00m \u001b[38;5;21mwrapper\u001b[39m(\u001b[38;5;241m*\u001b[39margs, \u001b[38;5;241m*\u001b[39m\u001b[38;5;241m*\u001b[39mkwargs):\n\u001b[1;32m     71\u001b[0m     \u001b[38;5;28;01mtry\u001b[39;00m:\n\u001b[0;32m---> 72\u001b[0m         retval \u001b[38;5;241m=\u001b[39m \u001b[43mcfunc\u001b[49m\u001b[43m(\u001b[49m\u001b[38;5;241;43m*\u001b[39;49m\u001b[43margs\u001b[49m\u001b[43m,\u001b[49m\u001b[43m \u001b[49m\u001b[38;5;241;43m*\u001b[39;49m\u001b[38;5;241;43m*\u001b[39;49m\u001b[43mkwargs\u001b[49m\u001b[43m)\u001b[49m\n\u001b[1;32m     73\u001b[0m     \u001b[38;5;28;01mexcept\u001b[39;00m \u001b[38;5;167;01mTypeError\u001b[39;00m \u001b[38;5;28;01mas\u001b[39;00m e:\n\u001b[1;32m     74\u001b[0m         \u001b[38;5;28;01mif\u001b[39;00m \u001b[38;5;129;01mnot\u001b[39;00m e\u001b[38;5;241m.\u001b[39margs \u001b[38;5;129;01mor\u001b[39;00m \u001b[38;5;129;01mnot\u001b[39;00m e\u001b[38;5;241m.\u001b[39margs[\u001b[38;5;241m0\u001b[39m]\u001b[38;5;241m.\u001b[39mstartswith(\u001b[38;5;124m'\u001b[39m\u001b[38;5;124munhashable type:\u001b[39m\u001b[38;5;124m'\u001b[39m):\n",
      "File \u001b[0;32m~/PYCCEL/IGA-Python/.iga-python/lib/python3.10/site-packages/sympde/expr/evaluation.py:540\u001b[0m, in \u001b[0;36mTerminalExpr.eval\u001b[0;34m(cls, expr, domain)\u001b[0m\n\u001b[1;32m    537\u001b[0m     \u001b[38;5;28;01mreturn\u001b[39;00m o\n\u001b[1;32m    539\u001b[0m \u001b[38;5;28;01melif\u001b[39;00m \u001b[38;5;28misinstance\u001b[39m(expr, Mul):\n\u001b[0;32m--> 540\u001b[0m     args \u001b[38;5;241m=\u001b[39m [\u001b[38;5;28mcls\u001b[39m\u001b[38;5;241m.\u001b[39meval(a, domain\u001b[38;5;241m=\u001b[39mdomain) \u001b[38;5;28;01mfor\u001b[39;00m a \u001b[38;5;129;01min\u001b[39;00m expr\u001b[38;5;241m.\u001b[39margs]\n\u001b[1;32m    541\u001b[0m     o \u001b[38;5;241m=\u001b[39m args[\u001b[38;5;241m0\u001b[39m]\n\u001b[1;32m    542\u001b[0m     \u001b[38;5;28;01mfor\u001b[39;00m arg \u001b[38;5;129;01min\u001b[39;00m args[\u001b[38;5;241m1\u001b[39m:]:\n",
      "File \u001b[0;32m~/PYCCEL/IGA-Python/.iga-python/lib/python3.10/site-packages/sympde/expr/evaluation.py:540\u001b[0m, in \u001b[0;36m<listcomp>\u001b[0;34m(.0)\u001b[0m\n\u001b[1;32m    537\u001b[0m     \u001b[38;5;28;01mreturn\u001b[39;00m o\n\u001b[1;32m    539\u001b[0m \u001b[38;5;28;01melif\u001b[39;00m \u001b[38;5;28misinstance\u001b[39m(expr, Mul):\n\u001b[0;32m--> 540\u001b[0m     args \u001b[38;5;241m=\u001b[39m [\u001b[38;5;28;43mcls\u001b[39;49m\u001b[38;5;241;43m.\u001b[39;49m\u001b[43meval\u001b[49m\u001b[43m(\u001b[49m\u001b[43ma\u001b[49m\u001b[43m,\u001b[49m\u001b[43m \u001b[49m\u001b[43mdomain\u001b[49m\u001b[38;5;241;43m=\u001b[39;49m\u001b[43mdomain\u001b[49m\u001b[43m)\u001b[49m \u001b[38;5;28;01mfor\u001b[39;00m a \u001b[38;5;129;01min\u001b[39;00m expr\u001b[38;5;241m.\u001b[39margs]\n\u001b[1;32m    541\u001b[0m     o \u001b[38;5;241m=\u001b[39m args[\u001b[38;5;241m0\u001b[39m]\n\u001b[1;32m    542\u001b[0m     \u001b[38;5;28;01mfor\u001b[39;00m arg \u001b[38;5;129;01min\u001b[39;00m args[\u001b[38;5;241m1\u001b[39m:]:\n",
      "File \u001b[0;32m~/PYCCEL/IGA-Python/.iga-python/lib/python3.10/site-packages/sympy/core/cache.py:72\u001b[0m, in \u001b[0;36m__cacheit.<locals>.func_wrapper.<locals>.wrapper\u001b[0;34m(*args, **kwargs)\u001b[0m\n\u001b[1;32m     69\u001b[0m \u001b[38;5;129m@wraps\u001b[39m(func)\n\u001b[1;32m     70\u001b[0m \u001b[38;5;28;01mdef\u001b[39;00m \u001b[38;5;21mwrapper\u001b[39m(\u001b[38;5;241m*\u001b[39margs, \u001b[38;5;241m*\u001b[39m\u001b[38;5;241m*\u001b[39mkwargs):\n\u001b[1;32m     71\u001b[0m     \u001b[38;5;28;01mtry\u001b[39;00m:\n\u001b[0;32m---> 72\u001b[0m         retval \u001b[38;5;241m=\u001b[39m \u001b[43mcfunc\u001b[49m\u001b[43m(\u001b[49m\u001b[38;5;241;43m*\u001b[39;49m\u001b[43margs\u001b[49m\u001b[43m,\u001b[49m\u001b[43m \u001b[49m\u001b[38;5;241;43m*\u001b[39;49m\u001b[38;5;241;43m*\u001b[39;49m\u001b[43mkwargs\u001b[49m\u001b[43m)\u001b[49m\n\u001b[1;32m     73\u001b[0m     \u001b[38;5;28;01mexcept\u001b[39;00m \u001b[38;5;167;01mTypeError\u001b[39;00m \u001b[38;5;28;01mas\u001b[39;00m e:\n\u001b[1;32m     74\u001b[0m         \u001b[38;5;28;01mif\u001b[39;00m \u001b[38;5;129;01mnot\u001b[39;00m e\u001b[38;5;241m.\u001b[39margs \u001b[38;5;129;01mor\u001b[39;00m \u001b[38;5;129;01mnot\u001b[39;00m e\u001b[38;5;241m.\u001b[39margs[\u001b[38;5;241m0\u001b[39m]\u001b[38;5;241m.\u001b[39mstartswith(\u001b[38;5;124m'\u001b[39m\u001b[38;5;124munhashable type:\u001b[39m\u001b[38;5;124m'\u001b[39m):\n",
      "File \u001b[0;32m~/PYCCEL/IGA-Python/.iga-python/lib/python3.10/site-packages/sympde/expr/evaluation.py:533\u001b[0m, in \u001b[0;36mTerminalExpr.eval\u001b[0;34m(cls, expr, domain)\u001b[0m\n\u001b[1;32m    531\u001b[0m dim \u001b[38;5;241m=\u001b[39m domain\u001b[38;5;241m.\u001b[39mdim\n\u001b[1;32m    532\u001b[0m \u001b[38;5;28;01mif\u001b[39;00m \u001b[38;5;28misinstance\u001b[39m(expr, Add):\n\u001b[0;32m--> 533\u001b[0m     args \u001b[38;5;241m=\u001b[39m [\u001b[38;5;28mcls\u001b[39m\u001b[38;5;241m.\u001b[39meval(a, domain\u001b[38;5;241m=\u001b[39mdomain) \u001b[38;5;28;01mfor\u001b[39;00m a \u001b[38;5;129;01min\u001b[39;00m expr\u001b[38;5;241m.\u001b[39margs]\n\u001b[1;32m    534\u001b[0m     o \u001b[38;5;241m=\u001b[39m args[\u001b[38;5;241m0\u001b[39m]\n\u001b[1;32m    535\u001b[0m     \u001b[38;5;28;01mfor\u001b[39;00m arg \u001b[38;5;129;01min\u001b[39;00m args[\u001b[38;5;241m1\u001b[39m:]:\n",
      "File \u001b[0;32m~/PYCCEL/IGA-Python/.iga-python/lib/python3.10/site-packages/sympde/expr/evaluation.py:533\u001b[0m, in \u001b[0;36m<listcomp>\u001b[0;34m(.0)\u001b[0m\n\u001b[1;32m    531\u001b[0m dim \u001b[38;5;241m=\u001b[39m domain\u001b[38;5;241m.\u001b[39mdim\n\u001b[1;32m    532\u001b[0m \u001b[38;5;28;01mif\u001b[39;00m \u001b[38;5;28misinstance\u001b[39m(expr, Add):\n\u001b[0;32m--> 533\u001b[0m     args \u001b[38;5;241m=\u001b[39m [\u001b[38;5;28;43mcls\u001b[39;49m\u001b[38;5;241;43m.\u001b[39;49m\u001b[43meval\u001b[49m\u001b[43m(\u001b[49m\u001b[43ma\u001b[49m\u001b[43m,\u001b[49m\u001b[43m \u001b[49m\u001b[43mdomain\u001b[49m\u001b[38;5;241;43m=\u001b[39;49m\u001b[43mdomain\u001b[49m\u001b[43m)\u001b[49m \u001b[38;5;28;01mfor\u001b[39;00m a \u001b[38;5;129;01min\u001b[39;00m expr\u001b[38;5;241m.\u001b[39margs]\n\u001b[1;32m    534\u001b[0m     o \u001b[38;5;241m=\u001b[39m args[\u001b[38;5;241m0\u001b[39m]\n\u001b[1;32m    535\u001b[0m     \u001b[38;5;28;01mfor\u001b[39;00m arg \u001b[38;5;129;01min\u001b[39;00m args[\u001b[38;5;241m1\u001b[39m:]:\n",
      "File \u001b[0;32m~/PYCCEL/IGA-Python/.iga-python/lib/python3.10/site-packages/sympy/core/cache.py:72\u001b[0m, in \u001b[0;36m__cacheit.<locals>.func_wrapper.<locals>.wrapper\u001b[0;34m(*args, **kwargs)\u001b[0m\n\u001b[1;32m     69\u001b[0m \u001b[38;5;129m@wraps\u001b[39m(func)\n\u001b[1;32m     70\u001b[0m \u001b[38;5;28;01mdef\u001b[39;00m \u001b[38;5;21mwrapper\u001b[39m(\u001b[38;5;241m*\u001b[39margs, \u001b[38;5;241m*\u001b[39m\u001b[38;5;241m*\u001b[39mkwargs):\n\u001b[1;32m     71\u001b[0m     \u001b[38;5;28;01mtry\u001b[39;00m:\n\u001b[0;32m---> 72\u001b[0m         retval \u001b[38;5;241m=\u001b[39m \u001b[43mcfunc\u001b[49m\u001b[43m(\u001b[49m\u001b[38;5;241;43m*\u001b[39;49m\u001b[43margs\u001b[49m\u001b[43m,\u001b[49m\u001b[43m \u001b[49m\u001b[38;5;241;43m*\u001b[39;49m\u001b[38;5;241;43m*\u001b[39;49m\u001b[43mkwargs\u001b[49m\u001b[43m)\u001b[49m\n\u001b[1;32m     73\u001b[0m     \u001b[38;5;28;01mexcept\u001b[39;00m \u001b[38;5;167;01mTypeError\u001b[39;00m \u001b[38;5;28;01mas\u001b[39;00m e:\n\u001b[1;32m     74\u001b[0m         \u001b[38;5;28;01mif\u001b[39;00m \u001b[38;5;129;01mnot\u001b[39;00m e\u001b[38;5;241m.\u001b[39margs \u001b[38;5;129;01mor\u001b[39;00m \u001b[38;5;129;01mnot\u001b[39;00m e\u001b[38;5;241m.\u001b[39margs[\u001b[38;5;241m0\u001b[39m]\u001b[38;5;241m.\u001b[39mstartswith(\u001b[38;5;124m'\u001b[39m\u001b[38;5;124munhashable type:\u001b[39m\u001b[38;5;124m'\u001b[39m):\n",
      "File \u001b[0;32m~/PYCCEL/IGA-Python/.iga-python/lib/python3.10/site-packages/sympde/expr/evaluation.py:640\u001b[0m, in \u001b[0;36mTerminalExpr.eval\u001b[0;34m(cls, expr, domain)\u001b[0m\n\u001b[1;32m    638\u001b[0m v \u001b[38;5;241m=\u001b[39m expr\u001b[38;5;241m.\u001b[39margs[\u001b[38;5;241m0\u001b[39m]\n\u001b[1;32m    639\u001b[0m \u001b[38;5;28;01mif\u001b[39;00m \u001b[38;5;129;01mnot\u001b[39;00m \u001b[38;5;28misinstance\u001b[39m(v, (ScalarFunction, minus, plus)):\n\u001b[0;32m--> 640\u001b[0m     \u001b[38;5;28;01mraise\u001b[39;00m \u001b[38;5;167;01mTypeError\u001b[39;00m(\u001b[38;5;124m'\u001b[39m\u001b[38;5;124mExpecting a ScalarFunction, PlusInterfaceOperator or MinusInterfaceOperator\u001b[39m\u001b[38;5;124m'\u001b[39m)\n\u001b[1;32m    642\u001b[0m v \u001b[38;5;241m=\u001b[39m \u001b[38;5;28mcls\u001b[39m\u001b[38;5;241m.\u001b[39meval(v, domain\u001b[38;5;241m=\u001b[39mdomain)\n\u001b[1;32m    644\u001b[0m nn \u001b[38;5;241m=\u001b[39m NormalVector(\u001b[38;5;124m'\u001b[39m\u001b[38;5;124mnn\u001b[39m\u001b[38;5;124m'\u001b[39m)\n",
      "\u001b[0;31mTypeError\u001b[0m: Expecting a ScalarFunction, PlusInterfaceOperator or MinusInterfaceOperator"
     ]
    }
   ],
   "source": [
    "# Create computational domain from topological domain\n",
    "domain_h = discretize(domain, ncells=ncells, comm=None)\n",
    "\n",
    "# Create discrete spline space\n",
    "Vh = discretize(V, domain_h, degree=degree)\n",
    "\n",
    "# Discretize equation\n",
    "equation_h = discretize(equation, domain_h, [Vh, Vh])"
   ]
  },
  {
   "cell_type": "markdown",
   "id": "75f6b2cf",
   "metadata": {},
   "source": [
    "## Solving the PDE"
   ]
  },
  {
   "cell_type": "code",
   "execution_count": 64,
   "id": "b6ad348a",
   "metadata": {},
   "outputs": [],
   "source": [
    "equation_h.set_solver('gmres', info=False, tol=1e-8)"
   ]
  },
  {
   "cell_type": "code",
   "execution_count": 65,
   "id": "11c1b23b",
   "metadata": {},
   "outputs": [],
   "source": [
    "uh = equation_h.solve(kappa=1e3)"
   ]
  },
  {
   "cell_type": "markdown",
   "id": "3d67feb3",
   "metadata": {},
   "source": [
    "## Computing the Error Norm"
   ]
  },
  {
   "cell_type": "markdown",
   "id": "50b4bf80",
   "metadata": {},
   "source": [
    "### Computing the $L^2$ norm"
   ]
  },
  {
   "cell_type": "code",
   "execution_count": 66,
   "id": "e295fb37",
   "metadata": {},
   "outputs": [
    {
     "name": "stdout",
     "output_type": "stream",
     "text": [
      "0.0002193529744905818\n"
     ]
    }
   ],
   "source": [
    "ue = sin(pi*x)*sin(pi*y)\n",
    "\n",
    "u = element_of(V, name='u')\n",
    "\n",
    "# create the formal Norm object\n",
    "l2norm = Norm(u - ue, domain, kind='l2')\n",
    "\n",
    "# discretize the norm\n",
    "l2norm_h = discretize(l2norm, domain_h, Vh)\n",
    "\n",
    "# assemble the norm\n",
    "l2_error = l2norm_h.assemble(u=uh)\n",
    "\n",
    "# print the result\n",
    "print(l2_error)"
   ]
  },
  {
   "cell_type": "markdown",
   "id": "4131a264",
   "metadata": {},
   "source": [
    "## Remarks\n",
    "\n",
    "There should be a problem in sympde, since computing the TerminalExpr of the bilinear form gives\n",
    "\n",
    "```python\n",
    ">>> from sympde.expr import TerminalExpr\n",
    ">>> expr = TerminalExpr(a, domain)\n",
    ">>> print(expr)\n",
    "\n",
    "(InterfaceExpression(A|B, \n",
    "                     -kappa*MinusInterfaceOperator(u)*PlusInterfaceOperator(v) \n",
    "                     + (0.5*dx1(MinusInterfaceOperator(u))*nn[0] + 0.5*dx2(MinusInterfaceOperator(u))*nn[1])*PlusInterfaceOperator(v) \n",
    "                     + (-0.5*dx1(PlusInterfaceOperator(v))*nn[0] - 0.5*dx2(PlusInterfaceOperator(v))*nn[1])*MinusInterfaceOperator(u)\n",
    "                    ), \n",
    " InterfaceExpression(A|B, \n",
    "                     -kappa*MinusInterfaceOperator(v)*PlusInterfaceOperator(u) \n",
    "                     + (0.5*dx1(MinusInterfaceOperator(v))*nn[0] + 0.5*dx2(MinusInterfaceOperator(v))*nn[1])*PlusInterfaceOperator(u) \n",
    "                     + (-0.5*dx1(PlusInterfaceOperator(u))*nn[0] - 0.5*dx2(PlusInterfaceOperator(u))*nn[1])*MinusInterfaceOperator(v)\n",
    "                    ), \n",
    " DomainExpression(A, \n",
    "                  dx1(u)*dx1(v) + dx2(u)*dx2(v)\n",
    "                 ), \n",
    " DomainExpression(B, \n",
    "                  dx1(u)*dx1(v) + dx2(u)*dx2(v)\n",
    "                 ), \n",
    " BoundaryExpression(A_\\Gamma_2, \n",
    "                    kappa*u*v \n",
    "                    + u*(-0.5*dx1(v)*nn[0] - 0.5*dx2(v)*nn[1]) \n",
    "                    + v*(-0.5*dx1(u)*nn[0] - 0.5*dx2(u)*nn[1])\n",
    "                   ), \n",
    " BoundaryExpression(B_\\Gamma_1, \n",
    "                    kappa*u*v \n",
    "                    + u*(-0.5*dx1(v)*nn[0] - 0.5*dx2(v)*nn[1]) \n",
    "                    + v*(-0.5*dx1(u)*nn[0] - 0.5*dx2(u)*nn[1])\n",
    "                   )\n",
    ")\n",
    "```\n",
    "\n",
    "The **BoundaryExpression** terms should not appear in the TerminalExpr."
   ]
  },
  {
   "cell_type": "code",
   "execution_count": null,
   "id": "645e631b",
   "metadata": {},
   "outputs": [],
   "source": []
  }
 ],
 "metadata": {
  "kernelspec": {
   "display_name": ".iga-python",
   "language": "python",
   "name": ".iga-python"
  },
  "language_info": {
   "codemirror_mode": {
    "name": "ipython",
    "version": 3
   },
   "file_extension": ".py",
   "mimetype": "text/x-python",
   "name": "python",
   "nbconvert_exporter": "python",
   "pygments_lexer": "ipython3",
   "version": "3.10.12"
  }
 },
 "nbformat": 4,
 "nbformat_minor": 5
}
